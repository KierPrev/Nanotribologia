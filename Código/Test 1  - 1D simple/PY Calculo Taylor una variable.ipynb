{
 "cells": [
  {
   "cell_type": "code",
   "execution_count": 11,
   "metadata": {},
   "outputs": [],
   "source": [
    "from sympy import *\n",
    "\n",
    "x, a, E_0, z, k, x0 = symbols(\"x a E_0 z k x0\")\n",
    "\n",
    "#Potencial Tomlinson\n",
    "V_pot = E_0/2 * (1 - cos(2*pi*x/a)) + k/2 * (z - x)**2"
   ]
  },
  {
   "cell_type": "code",
   "execution_count": 15,
   "metadata": {},
   "outputs": [
    {
     "data": {
      "text/latex": [
       "$\\displaystyle \\frac{\\pi E_{0} \\sin{\\left(\\frac{2 \\pi x}{a} \\right)}}{a} + \\frac{k \\left(2 x - 2 z\\right)}{2}$"
      ],
      "text/plain": [
       "pi*E_0*sin(2*pi*x/a)/a + k*(2*x - 2*z)/2"
      ]
     },
     "execution_count": 15,
     "metadata": {},
     "output_type": "execute_result"
    }
   ],
   "source": [
    "V_x = diff(V_pot,x)\n",
    "V_x\n"
   ]
  },
  {
   "cell_type": "code",
   "execution_count": 16,
   "metadata": {},
   "outputs": [
    {
     "data": {
      "text/latex": [
       "$\\displaystyle \\frac{2 \\pi^{2} E_{0} \\cos{\\left(\\frac{2 \\pi x}{a} \\right)}}{a^{2}} + k$"
      ],
      "text/plain": [
       "2*pi**2*E_0*cos(2*pi*x/a)/a**2 + k"
      ]
     },
     "execution_count": 16,
     "metadata": {},
     "output_type": "execute_result"
    }
   ],
   "source": [
    "V_xx = diff(V_pot,x,2)\n",
    "V_xx"
   ]
  },
  {
   "cell_type": "code",
   "execution_count": 17,
   "metadata": {},
   "outputs": [
    {
     "data": {
      "text/latex": [
       "$\\displaystyle - \\frac{4 \\pi^{3} E_{0} \\sin{\\left(\\frac{2 \\pi x}{a} \\right)}}{a^{3}}$"
      ],
      "text/plain": [
       "-4*pi**3*E_0*sin(2*pi*x/a)/a**3"
      ]
     },
     "execution_count": 17,
     "metadata": {},
     "output_type": "execute_result"
    }
   ],
   "source": [
    "V_xxx = diff(V_pot,x,3)\n",
    "V_xxx"
   ]
  },
  {
   "cell_type": "code",
   "execution_count": 14,
   "metadata": {},
   "outputs": [
    {
     "data": {
      "text/latex": [
       "$\\displaystyle \\frac{E_{0} \\cdot \\left(1 - \\cos{\\left(\\frac{2 \\pi x}{a} \\right)}\\right)}{2} - \\frac{2 \\pi^{3} E_{0} \\left(x - x_{0}\\right)^{3} \\sin{\\left(\\frac{2 \\pi x}{a} \\right)}}{3 a^{3}} + \\frac{k \\left(- x + z\\right)^{2}}{2} + \\left(x - x_{0}\\right)^{2} \\left(\\frac{\\pi^{2} E_{0} \\cos{\\left(\\frac{2 \\pi x}{a} \\right)}}{a^{2}} + \\frac{k}{2}\\right) + \\left(x - x_{0}\\right) \\left(\\frac{\\pi E_{0} \\sin{\\left(\\frac{2 \\pi x}{a} \\right)}}{a} + \\frac{k \\left(2 x - 2 z\\right)}{2}\\right)$"
      ],
      "text/plain": [
       "E_0*(1 - cos(2*pi*x/a))/2 - 2*pi**3*E_0*(x - x0)**3*sin(2*pi*x/a)/(3*a**3) + k*(-x + z)**2/2 + (x - x0)**2*(pi**2*E_0*cos(2*pi*x/a)/a**2 + k/2) + (x - x0)*(pi*E_0*sin(2*pi*x/a)/a + k*(2*x - 2*z)/2)"
      ]
     },
     "execution_count": 14,
     "metadata": {},
     "output_type": "execute_result"
    }
   ],
   "source": [
    "V_taylor = V_pot + V_x * (x-x0) + V_xx/2 * (x-x0)**2 + V_xxx/6 * (x-x0)**3\n",
    "V_taylor"
   ]
  }
 ],
 "metadata": {
  "kernelspec": {
   "display_name": "Python 3",
   "language": "python",
   "name": "python3"
  },
  "language_info": {
   "codemirror_mode": {
    "name": "ipython",
    "version": 3
   },
   "file_extension": ".py",
   "mimetype": "text/x-python",
   "name": "python",
   "nbconvert_exporter": "python",
   "pygments_lexer": "ipython3",
   "version": "3.10.10"
  },
  "orig_nbformat": 4
 },
 "nbformat": 4,
 "nbformat_minor": 2
}
